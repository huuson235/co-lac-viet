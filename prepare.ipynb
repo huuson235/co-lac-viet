{
 "cells": [
  {
   "cell_type": "code",
   "execution_count": 37,
   "metadata": {},
   "outputs": [],
   "source": [
    "import pandas as pd\n",
    "import cv2\n",
    "import matplotlib.pyplot as plt\n",
    "import os"
   ]
  },
  {
   "cell_type": "code",
   "execution_count": 43,
   "metadata": {},
   "outputs": [
    {
     "name": "stdout",
     "output_type": "stream",
     "text": [
      "1172\n",
      "156\n"
     ]
    }
   ],
   "source": [
    "df = pd.read_csv(\"./frame_anno1_anno2.csv\", names=[\"frame\", \"anno1\", \"anno2\"])\n",
    "glove = []\n",
    "for index, row in df.iterrows():\n",
    "    frame = row['frame']\n",
    "    name = os.path.basename(frame)\n",
    "    glove.append(\"GL\" in name)\n",
    "\n",
    "df[\"GL\"] = glove\n",
    "df.head()\n",
    "print(len(df[df[\"GL\"] == True]))\n",
    "print(len(df[df[\"GL\"] == False]))"
   ]
  },
  {
   "cell_type": "code",
   "execution_count": 35,
   "metadata": {},
   "outputs": [
    {
     "name": "stdout",
     "output_type": "stream",
     "text": [
      "(822, 978, 1112, 1078)\n",
      "(749, 733, 874, 982)\n"
     ]
    },
    {
     "data": {
      "image/png": "[encoded data removed]",
      "text/plain": [
       "<Figure size 640x480 with 1 Axes>"
      ]
     },
     "metadata": {},
     "output_type": "display_data"
    }
   ],
   "source": [
    "frame_path = \"Annotations\\Test_Subject_1\\By_1\\id\\Jenga_task\\Side_View\\Jenga_GL_3374.0.png\"\n",
    "frame = cv2.imread(frame_path) # BGR\n",
    "\n",
    "def get_coors(frame):\n",
    "    n_rows, n_cols = frame.shape[:2]\n",
    "    x_min, y_min, x_max, y_max = 0, 0, 0, 0\n",
    "\n",
    "    for i in range(n_cols):\n",
    "        if frame[:, i].sum() > 0:\n",
    "            x_min = i\n",
    "            break\n",
    "\n",
    "    for i in reversed(range(n_cols)):\n",
    "        if frame[:, i].sum() > 0:\n",
    "            x_max = i\n",
    "            break\n",
    "\n",
    "    for i in range(n_rows):\n",
    "        if frame[i].sum() > 0:\n",
    "            y_min = i\n",
    "            break\n",
    "\n",
    "    for i in reversed(range(n_rows)):\n",
    "        if frame[i].sum() > 0:\n",
    "            y_max = i\n",
    "            break\n",
    "    return x_min, y_min, x_max, y_max\n",
    "\n",
    "\n",
    "print(get_coors(frame[:, :, 0]))\n",
    "print(get_coors(frame[:, :, 1]))\n",
    "plt.imshow(frame[:,:,::-1])\n",
    "plt.show()"
   ]
  },
  {
   "cell_type": "code",
   "execution_count": 44,
   "metadata": {},
   "outputs": [
    {
     "name": "stdout",
     "output_type": "stream",
     "text": [
      "Downloading https://github.com/ultralytics/assets/releases/download/v8.1.0/yolov8n.pt to 'yolov8n.pt'...\n"
     ]
    },
    {
     "name": "stderr",
     "output_type": "stream",
     "text": [
      "100%|██████████| 6.23M/6.23M [00:00<00:00, 7.59MB/s]"
     ]
    },
    {
     "name": "stdout",
     "output_type": "stream",
     "text": [
      "Transferred 355/355 items from pretrained weights\n"
     ]
    },
    {
     "name": "stderr",
     "output_type": "stream",
     "text": [
      "\n"
     ]
    }
   ],
   "source": [
    "from ultralytics import YOLO\n",
    "\n",
    "model = YOLO('yolov8n.yaml').load('yolov8n.pt')"
   ]
  }
 ],
 "metadata": {
  "kernelspec": {
   "display_name": "test",
   "language": "python",
   "name": "python3"
  },
  "language_info": {
   "codemirror_mode": {
    "name": "ipython",
    "version": 3
   },
   "file_extension": ".py",
   "mimetype": "text/x-python",
   "name": "python",
   "nbconvert_exporter": "python",
   "pygments_lexer": "ipython3",
   "version": "3.9.15"
  },
  "orig_nbformat": 4
 },
 "nbformat": 4,
 "nbformat_minor": 2
}
