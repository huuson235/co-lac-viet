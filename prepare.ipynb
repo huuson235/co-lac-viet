{
 "cells": [
  {
   "cell_type": "code",
   "execution_count": 26,
   "metadata": {},
   "outputs": [],
   "source": [
    "import pandas as pd\n",
    "import cv2\n",
    "import matplotlib.pyplot as plt\n",
    "import tqdm\n",
    "import os\n",
    "import numpy as np"
   ]
  },
  {
   "cell_type": "code",
   "execution_count": 62,
   "metadata": {},
   "outputs": [
    {
     "name": "stdout",
     "output_type": "stream",
     "text": [
      "1172\n",
      "155\n"
     ]
    },
    {
     "data": {
      "text/html": [
       "<div>\n",
       "<style scoped>\n",
       "    .dataframe tbody tr th:only-of-type {\n",
       "        vertical-align: middle;\n",
       "    }\n",
       "\n",
       "    .dataframe tbody tr th {\n",
       "        vertical-align: top;\n",
       "    }\n",
       "\n",
       "    .dataframe thead th {\n",
       "        text-align: right;\n",
       "    }\n",
       "</style>\n",
       "<table border=\"1\" class=\"dataframe\">\n",
       "  <thead>\n",
       "    <tr style=\"text-align: right;\">\n",
       "      <th></th>\n",
       "      <th>frame</th>\n",
       "      <th>anno1</th>\n",
       "      <th>anno2</th>\n",
       "      <th>GL</th>\n",
       "    </tr>\n",
       "  </thead>\n",
       "  <tbody>\n",
       "    <tr>\n",
       "      <th>0</th>\n",
       "      <td>Sampled_Frames/Test_Subject_9/id/Jenga_task/To...</td>\n",
       "      <td>Annotations/Test_Subject_9/By_1/id/Jenga_task/...</td>\n",
       "      <td>Annotations/Test_Subject_9/By_2/id/Jenga_task/...</td>\n",
       "      <td>1</td>\n",
       "    </tr>\n",
       "    <tr>\n",
       "      <th>1</th>\n",
       "      <td>Sampled_Frames/Test_Subject_4/id/Jenga_task/Si...</td>\n",
       "      <td>Annotations/Test_Subject_4/By_1/id/Jenga_task/...</td>\n",
       "      <td>Annotations/Test_Subject_4/By_2/id/Jenga_task/...</td>\n",
       "      <td>1</td>\n",
       "    </tr>\n",
       "    <tr>\n",
       "      <th>2</th>\n",
       "      <td>Sampled_Frames/Test_Subject_1/id/Jenga_task/Si...</td>\n",
       "      <td>Annotations/Test_Subject_1/By_1/id/Jenga_task/...</td>\n",
       "      <td>Annotations/Test_Subject_1/By_2/id/Jenga_task/...</td>\n",
       "      <td>1</td>\n",
       "    </tr>\n",
       "    <tr>\n",
       "      <th>3</th>\n",
       "      <td>Sampled_Frames/Test_Subject_1/id/Jenga_task/Si...</td>\n",
       "      <td>Annotations/Test_Subject_1/By_1/id/Jenga_task/...</td>\n",
       "      <td>Annotations/Test_Subject_1/By_2/id/Jenga_task/...</td>\n",
       "      <td>1</td>\n",
       "    </tr>\n",
       "    <tr>\n",
       "      <th>4</th>\n",
       "      <td>Sampled_Frames/Test_Subject_1/id/Jenga_task/Si...</td>\n",
       "      <td>Annotations/Test_Subject_1/By_1/id/Jenga_task/...</td>\n",
       "      <td>Annotations/Test_Subject_1/By_2/id/Jenga_task/...</td>\n",
       "      <td>1</td>\n",
       "    </tr>\n",
       "    <tr>\n",
       "      <th>...</th>\n",
       "      <td>...</td>\n",
       "      <td>...</td>\n",
       "      <td>...</td>\n",
       "      <td>...</td>\n",
       "    </tr>\n",
       "    <tr>\n",
       "      <th>1322</th>\n",
       "      <td>Sampled_Frames/Test_Subject_9/ood/Toolbox_task...</td>\n",
       "      <td>Annotations/Test_Subject_9/By_1/ood/Toolbox_ta...</td>\n",
       "      <td>Annotations/Test_Subject_9/By_2/ood/Toolbox_ta...</td>\n",
       "      <td>1</td>\n",
       "    </tr>\n",
       "    <tr>\n",
       "      <th>1323</th>\n",
       "      <td>Sampled_Frames/Test_Subject_9/ood/Toolbox_task...</td>\n",
       "      <td>Annotations/Test_Subject_9/By_1/ood/Toolbox_ta...</td>\n",
       "      <td>Annotations/Test_Subject_9/By_2/ood/Toolbox_ta...</td>\n",
       "      <td>0</td>\n",
       "    </tr>\n",
       "    <tr>\n",
       "      <th>1324</th>\n",
       "      <td>Sampled_Frames/Test_Subject_9/ood/Toolbox_task...</td>\n",
       "      <td>Annotations/Test_Subject_9/By_1/ood/Toolbox_ta...</td>\n",
       "      <td>Annotations/Test_Subject_9/By_2/ood/Toolbox_ta...</td>\n",
       "      <td>0</td>\n",
       "    </tr>\n",
       "    <tr>\n",
       "      <th>1325</th>\n",
       "      <td>Sampled_Frames/Test_Subject_9/ood/Toolbox_task...</td>\n",
       "      <td>Annotations/Test_Subject_9/By_1/ood/Toolbox_ta...</td>\n",
       "      <td>Annotations/Test_Subject_9/By_2/ood/Toolbox_ta...</td>\n",
       "      <td>0</td>\n",
       "    </tr>\n",
       "    <tr>\n",
       "      <th>1326</th>\n",
       "      <td>Sampled_Frames/Test_Subject_9/ood/Toolbox_task...</td>\n",
       "      <td>Annotations/Test_Subject_9/By_1/ood/Toolbox_ta...</td>\n",
       "      <td>Annotations/Test_Subject_9/By_2/ood/Toolbox_ta...</td>\n",
       "      <td>0</td>\n",
       "    </tr>\n",
       "  </tbody>\n",
       "</table>\n",
       "<p>1327 rows × 4 columns</p>\n",
       "</div>"
      ],
      "text/plain": [
       "                                                  frame   \n",
       "0     Sampled_Frames/Test_Subject_9/id/Jenga_task/To...  \\\n",
       "1     Sampled_Frames/Test_Subject_4/id/Jenga_task/Si...   \n",
       "2     Sampled_Frames/Test_Subject_1/id/Jenga_task/Si...   \n",
       "3     Sampled_Frames/Test_Subject_1/id/Jenga_task/Si...   \n",
       "4     Sampled_Frames/Test_Subject_1/id/Jenga_task/Si...   \n",
       "...                                                 ...   \n",
       "1322  Sampled_Frames/Test_Subject_9/ood/Toolbox_task...   \n",
       "1323  Sampled_Frames/Test_Subject_9/ood/Toolbox_task...   \n",
       "1324  Sampled_Frames/Test_Subject_9/ood/Toolbox_task...   \n",
       "1325  Sampled_Frames/Test_Subject_9/ood/Toolbox_task...   \n",
       "1326  Sampled_Frames/Test_Subject_9/ood/Toolbox_task...   \n",
       "\n",
       "                                                  anno1   \n",
       "0     Annotations/Test_Subject_9/By_1/id/Jenga_task/...  \\\n",
       "1     Annotations/Test_Subject_4/By_1/id/Jenga_task/...   \n",
       "2     Annotations/Test_Subject_1/By_1/id/Jenga_task/...   \n",
       "3     Annotations/Test_Subject_1/By_1/id/Jenga_task/...   \n",
       "4     Annotations/Test_Subject_1/By_1/id/Jenga_task/...   \n",
       "...                                                 ...   \n",
       "1322  Annotations/Test_Subject_9/By_1/ood/Toolbox_ta...   \n",
       "1323  Annotations/Test_Subject_9/By_1/ood/Toolbox_ta...   \n",
       "1324  Annotations/Test_Subject_9/By_1/ood/Toolbox_ta...   \n",
       "1325  Annotations/Test_Subject_9/By_1/ood/Toolbox_ta...   \n",
       "1326  Annotations/Test_Subject_9/By_1/ood/Toolbox_ta...   \n",
       "\n",
       "                                                  anno2  GL  \n",
       "0     Annotations/Test_Subject_9/By_2/id/Jenga_task/...   1  \n",
       "1     Annotations/Test_Subject_4/By_2/id/Jenga_task/...   1  \n",
       "2     Annotations/Test_Subject_1/By_2/id/Jenga_task/...   1  \n",
       "3     Annotations/Test_Subject_1/By_2/id/Jenga_task/...   1  \n",
       "4     Annotations/Test_Subject_1/By_2/id/Jenga_task/...   1  \n",
       "...                                                 ...  ..  \n",
       "1322  Annotations/Test_Subject_9/By_2/ood/Toolbox_ta...   1  \n",
       "1323  Annotations/Test_Subject_9/By_2/ood/Toolbox_ta...   0  \n",
       "1324  Annotations/Test_Subject_9/By_2/ood/Toolbox_ta...   0  \n",
       "1325  Annotations/Test_Subject_9/By_2/ood/Toolbox_ta...   0  \n",
       "1326  Annotations/Test_Subject_9/By_2/ood/Toolbox_ta...   0  \n",
       "\n",
       "[1327 rows x 4 columns]"
      ]
     },
     "execution_count": 62,
     "metadata": {},
     "output_type": "execute_result"
    }
   ],
   "source": [
    "df = pd.read_csv(\"./frame_anno1_anno2.csv\", names=[\"frame\", \"anno1\", \"anno2\"])\n",
    "glove = []\n",
    "for index, row in df.iterrows():\n",
    "    frame = row['frame']\n",
    "    name = os.path.basename(frame)\n",
    "    glove.append(int(\"GL\" in name))\n",
    "\n",
    "df[\"GL\"] = glove\n",
    "print(len(df[df[\"GL\"] == 1]))\n",
    "print(len(df[df[\"GL\"] == 0]))\n",
    "df"
   ]
  },
  {
   "cell_type": "code",
   "execution_count": 53,
   "metadata": {},
   "outputs": [
    {
     "name": "stdout",
     "output_type": "stream",
     "text": [
      "1\n"
     ]
    },
    {
     "data": {
      "image/png": "[encoded data removed]",
      "text/plain": [
       "<Figure size 640x480 with 1 Axes>"
      ]
     },
     "metadata": {},
     "output_type": "display_data"
    }
   ],
   "source": [
    "def draw(frame_path, coords):\n",
    "    frame = cv2.imread(frame_path)\n",
    "    H, W = frame.shape[:2]\n",
    "    new_coords = []\n",
    "    is_hand = (0, 255, 0) if \"GL\" in frame_path else (0, 0 , 255)\n",
    "    print(len(coords))\n",
    "    for xc, yc, w, h in coords:\n",
    "        w = w * W\n",
    "        h = h * H\n",
    "\n",
    "        xc = xc * W\n",
    "        yc = yc * H\n",
    "\n",
    "        x1 = int(xc - w / 2)\n",
    "        y1 = int(yc - h / 2)\n",
    "\n",
    "        x2 = int(x1 + w) \n",
    "        y2 = int(y1 + h) \n",
    "\n",
    "\n",
    "        cv2.rectangle(frame, (x1, y1), (x2, y2), is_hand, 3)\n",
    "    \n",
    "    plt.imshow(frame[:, :, ::-1])\n",
    "\n",
    "draw(\"Annotations/Test_Subject_1/By_1/id/Jenga_task/Side_View/Jenga_GL_3374.0.png\", [(0.5036458333333333, 0.9518518518518518, 0.15104166666666666, 0.09259259259259259)])"
   ]
  },
  {
   "cell_type": "code",
   "execution_count": 54,
   "metadata": {},
   "outputs": [
    {
     "name": "stdout",
     "output_type": "stream",
     "text": [
      "[(0.50390625, 0.9527777777777777, 0.1515625, 0.09444444444444444), (0.42291666666666666, 0.7944444444444444, 0.065625, 0.23148148148148148)]\n",
      "2\n"
     ]
    },
    {
     "data": {
      "image/png": "[encoded data removed]",
      "text/plain": [
       "<Figure size 640x480 with 1 Axes>"
      ]
     },
     "metadata": {},
     "output_type": "display_data"
    }
   ],
   "source": [
    "def get_coords(frame_path):\n",
    "    frame = cv2.imread(frame_path)\n",
    "    H, W = frame.shape[:2]\n",
    "    objs = []\n",
    "    for i in [0, 1]:\n",
    "        gray_image = np.squeeze(frame[:, :, i].copy())\n",
    "        # Apply Gaussian blur to reduce noise\n",
    "        blurred_image = cv2.GaussianBlur(gray_image, (5, 5), 0)\n",
    "\n",
    "        # Threshold the image to convert it to a binary image\n",
    "        _, binary_image = cv2.threshold(blurred_image, 100, 255, cv2.THRESH_BINARY)\n",
    "\n",
    "        # Find contours in the binary image\n",
    "        contours, _ = cv2.findContours(binary_image, cv2.RETR_EXTERNAL, cv2.CHAIN_APPROX_SIMPLE)\n",
    "        \n",
    "        for c in contours:\n",
    "            x, y, w, h = cv2.boundingRect(c)\n",
    "            x = (x + w/2) / W\n",
    "            y = (y + h/2) / H\n",
    "            w = w/W\n",
    "            h = h/H\n",
    "            if w*h < 0.001: continue\n",
    "            objs.append((x, y, w, h))\n",
    "\n",
    "    return objs\n",
    "    # Draw contours on the original image\n",
    "    # contour_image = np.copy(frame)\n",
    "    # draw = cv2.drawContours(contour_image, contours, -1, (0, 255, 0), 2)\n",
    "    # plt.imshow(draw)\n",
    "    # plt.show()\n",
    "    \n",
    "frame_path = \"Annotations/Test_Subject_1/By_1/id/Jenga_task/Side_View/Jenga_GL_3374.0.png\"\n",
    "coords = get_coords(frame_path)\n",
    "print(coords)\n",
    "draw(frame_path, coords)\n"
   ]
  },
  {
   "cell_type": "code",
   "execution_count": 57,
   "metadata": {},
   "outputs": [
    {
     "name": "stderr",
     "output_type": "stream",
     "text": [
      "1328it [01:31, 14.52it/s]\n"
     ]
    }
   ],
   "source": [
    "import shutil\n",
    "\n",
    "for index, row in tqdm.tqdm(df.iterrows()):\n",
    "    frame_path = row[\"frame\"]\n",
    "    filename = os.path.basename(frame_path)\n",
    "    shutil.copyfile(frame_path, \"data/images/\"+filename)"
   ]
  },
  {
   "cell_type": "code",
   "execution_count": 63,
   "metadata": {},
   "outputs": [
    {
     "name": "stderr",
     "output_type": "stream",
     "text": [
      "1327it [00:44, 30.00it/s]\n"
     ]
    }
   ],
   "source": [
    "for index, row in tqdm.tqdm(df.iterrows()):\n",
    "    frame_path = row[\"anno1\"]\n",
    "    label = row[\"GL\"]\n",
    "\n",
    "    name = os.path.basename(frame_path)\n",
    "    label_name = name[:-3] + \"txt\"\n",
    "    label_path = f\"data/labels/{label_name}\"\n",
    "\n",
    "    coords = get_coords(frame_path)\n",
    "    # draw(frame_path, coords)\n",
    "    with open(label_path, \"w+\") as f:\n",
    "        for x,y,w,h in coords:\n",
    "            line = f\"{label} {x} {y} {w} {h}\\n\"\n",
    "            f.write(line)\n"
   ]
  },
  {
   "cell_type": "code",
   "execution_count": 67,
   "metadata": {},
   "outputs": [
    {
     "name": "stderr",
     "output_type": "stream",
     "text": [
      "  0%|          | 0/1061 [00:00<?, ?it/s]"
     ]
    },
    {
     "name": "stderr",
     "output_type": "stream",
     "text": [
      "100%|██████████| 1061/1061 [00:03<00:00, 311.04it/s]\n",
      "100%|██████████| 133/133 [00:00<00:00, 476.63it/s]\n",
      "100%|██████████| 133/133 [00:00<00:00, 436.76it/s]\n"
     ]
    }
   ],
   "source": [
    "import random\n",
    "image_names = os.listdir(\"./data/images\")\n",
    "names = [iname[:-4] for iname in image_names if len(iname) > 5]\n",
    "\n",
    "random.shuffle(names)\n",
    "n = len(names)\n",
    "len_p1 = int(n * 0.8)\n",
    "len_p2 = int(n * 0.9)\n",
    "\n",
    "dataset = {\n",
    "\"train\": names[:len_p1],\n",
    "\"val\": names[len_p1 : len_p2],\n",
    "\"test\": names[len_p2 :]\n",
    "    \n",
    "}\n",
    "\n",
    "for key, names in dataset.items():\n",
    "    for name in tqdm.tqdm(names):\n",
    "        img_path = f\"./data/images/{name}.png\"\n",
    "        label_path = f\"./data/labels/{name}.txt\"\n",
    "\n",
    "        shutil.move(img_path, f\"data/images/{key}/{name}.png\")\n",
    "        shutil.move(label_path, f\"data/labels/{key}/{name}.txt\")"
   ]
  },
  {
   "cell_type": "code",
   "execution_count": 44,
   "metadata": {},
   "outputs": [
    {
     "name": "stdout",
     "output_type": "stream",
     "text": [
      "Downloading https://github.com/ultralytics/assets/releases/download/v8.1.0/yolov8n.pt to 'yolov8n.pt'...\n"
     ]
    },
    {
     "name": "stderr",
     "output_type": "stream",
     "text": [
      "100%|██████████| 6.23M/6.23M [00:00<00:00, 7.59MB/s]"
     ]
    },
    {
     "name": "stdout",
     "output_type": "stream",
     "text": [
      "Transferred 355/355 items from pretrained weights\n"
     ]
    },
    {
     "name": "stderr",
     "output_type": "stream",
     "text": [
      "\n"
     ]
    }
   ],
   "source": [
    "from ultralytics import YOLO\n",
    "\n",
    "model = YOLO('yolov8n.yaml').load('yolov8n.pt')"
   ]
  }
 ],
 "metadata": {
  "kernelspec": {
   "display_name": "test",
   "language": "python",
   "name": "python3"
  },
  "language_info": {
   "codemirror_mode": {
    "name": "ipython",
    "version": 3
   },
   "file_extension": ".py",
   "mimetype": "text/x-python",
   "name": "python",
   "nbconvert_exporter": "python",
   "pygments_lexer": "ipython3",
   "version": "3.10.11"
  },
  "orig_nbformat": 4
 },
 "nbformat": 4,
 "nbformat_minor": 2
}
